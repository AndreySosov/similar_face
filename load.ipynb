{
 "cells": [
  {
   "cell_type": "code",
   "execution_count": 1,
   "metadata": {},
   "outputs": [],
   "source": [
    "import os, sys\n",
    "import glob\n",
    "import json\n",
    "import pandas as pd\n",
    "\n",
    "from bing_image_downloader.downloader import download \n",
    "\n",
    "from PIL import Image"
   ]
  },
  {
   "cell_type": "markdown",
   "metadata": {},
   "source": [
    "# Импорт данных"
   ]
  },
  {
   "cell_type": "code",
   "execution_count": 2,
   "metadata": {},
   "outputs": [],
   "source": [
    "with open('config/actress_actors.json', 'r') as fp:\n",
    "    dict_act = json.load(fp)\n",
    "    \n",
    "SIZE = 256"
   ]
  },
  {
   "cell_type": "markdown",
   "metadata": {},
   "source": [
    "# Загрузка изображений актеров/актрис"
   ]
  },

   ],
   "source": [
    "dict_act"
   ]
  },
  {
   "cell_type": "code",
   "execution_count": 5,
   "metadata": {
    "scrolled": true
   },
   "outputs": [],
   "source": [
    "# возьмем только актеров\n",
    "for key in list(dict_act.keys())[1:]:\n",
    "    # пройдемся по каждому имени\n",
    "    for face in dict_act[key]:\n",
    "        str_face = f'face {face}'\n",
    "        dir_ = f'dataset/{key}'\n",
    "        \n",
    "        # выгрузим 15 фотографий по текущему имени\n",
    "        download(str_face,\n",
    "                 limit=15,\n",
    "                 output_dir=dir_,\n",
    "                 adult_filter_off=True,\n",
    "                 force_replace=False,\n",
    "                 timeout=60,\n",
    "                 verbose=True)\n",
    "        \n",
    "        # переименование директории\n",
    "        os.rename(f'dataset/{key}/' + str_face, f'dataset/{key}/' + face)"
   ]
  },
  {
   "cell_type": "markdown",
   "metadata": {},
   "source": [
    "# Форматирование размера изображений"
   ]
  },
  {
   "cell_type": "code",
   "execution_count": 7,
   "metadata": {},
   "outputs": [],
   "source": [
    "# возьмем только актеров\n",
    "for key in list(dict_act.keys())[:1]:\n",
    "    # пройдемся по каждому имени\n",
    "    for face in dict_act[key]:\n",
    "        # выгрузим все название файлов из папки\n",
    "        files = glob.glob(f'dataset/{key}/{face}/*')   \n",
    "        # пройдемся по списку файлов в цикле\n",
    "        for i in files:\n",
    "            try:\n",
    "                # откроем изображение\n",
    "                image = Image.open(i)\n",
    "                # получим его размер\n",
    "                size = image.size\n",
    "                \n",
    "                # получим коэффициент, на который нужно уменьшить/увеличить\n",
    "                # изображение по одной из сторон до 256\n",
    "                coef = SIZE / size[0]\n",
    "                # изменяем размер изображения\n",
    "                resized_image = image.resize(\n",
    "                    (int(size[0] * coef), int(size[1] * coef)))\n",
    "                resized_image = resized_image.convert('RGB')\n",
    "                # сохраняем\n",
    "                resized_image.save(i)\n",
    "            except:\n",
    "                os.remove(i)"
   ]
  },
  {
   "cell_type": "code",
   "execution_count": null,
   "metadata": {},
   "outputs": [],
   "source": []
  }
 ],
 "metadata": {
  "hide_input": false,
  "kernelspec": {
   "display_name": "Python 3",
   "language": "python",
   "name": "python3"
  },
  "language_info": {
   "codemirror_mode": {
    "name": "ipython",
    "version": 3
   },
   "file_extension": ".py",
   "mimetype": "text/x-python",
   "name": "python",
   "nbconvert_exporter": "python",
   "pygments_lexer": "ipython3",
   "version": "3.8.5"
  },
  "toc": {
   "base_numbering": 1,
   "nav_menu": {},
   "number_sections": true,
   "sideBar": true,
   "skip_h1_title": false,
   "title_cell": "Table of Contents",
   "title_sidebar": "Contents",
   "toc_cell": false,
   "toc_position": {},
   "toc_section_display": true,
   "toc_window_display": false
  }
 },
 "nbformat": 4,
 "nbformat_minor": 4
}
